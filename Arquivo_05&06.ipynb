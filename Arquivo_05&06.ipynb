{
  "nbformat": 4,
  "nbformat_minor": 0,
  "metadata": {
    "colab": {
      "provenance": [],
      "authorship_tag": "ABX9TyOdyjJaudj4OLlB5ymXqgS3",
      "include_colab_link": true
    },
    "kernelspec": {
      "name": "python3",
      "display_name": "Python 3"
    },
    "language_info": {
      "name": "python"
    }
  },
  "cells": [
    {
      "cell_type": "markdown",
      "metadata": {
        "id": "view-in-github",
        "colab_type": "text"
      },
      "source": [
        "<a href=\"https://colab.research.google.com/github/Melynna/Aula_01/blob/main/Arquivo_05%2606.ipynb\" target=\"_parent\"><img src=\"https://colab.research.google.com/assets/colab-badge.svg\" alt=\"Open In Colab\"/></a>"
      ]
    },
    {
      "cell_type": "code",
      "source": [],
      "metadata": {
        "id": "r2ChBd22c0MN"
      },
      "execution_count": null,
      "outputs": []
    },
    {
      "cell_type": "code",
      "execution_count": 2,
      "metadata": {
        "colab": {
          "base_uri": "https://localhost:8080/",
          "height": 35
        },
        "id": "m0YYIcq0XhHy",
        "outputId": "db74093a-3530-4a69-8fac-60bca9f9fa1f"
      },
      "outputs": [
        {
          "output_type": "execute_result",
          "data": {
            "text/plain": [
              "'Maria'"
            ],
            "application/vnd.google.colaboratory.intrinsic+json": {
              "type": "string"
            }
          },
          "metadata": {},
          "execution_count": 2
        }
      ],
      "source": [
        "lista = ['Vinicius', 'Matheus', 'Ana', 'Theo', 'Maria'] #Pode ser adicionado infinitamente qualquer info, informações identificadas como \"lista[0], lista[1]\" e assim por diante.\n",
        "lista[4] #traz a informação gravada nesse endereço.\n"
      ]
    },
    {
      "cell_type": "code",
      "source": [
        "for i in range(5): #Para tudo oque esta dentro desse range de 5...\n",
        "  print(lista[i]) #Traz a informação gravada. Não esquecer do \"TAB\" no começo da linha"
      ],
      "metadata": {
        "colab": {
          "base_uri": "https://localhost:8080/"
        },
        "id": "-_JAUpeEbsUE",
        "outputId": "165322d7-aab6-4439-e97a-c79530146a54"
      },
      "execution_count": 8,
      "outputs": [
        {
          "output_type": "stream",
          "name": "stdout",
          "text": [
            "Vinicius\n",
            "Matheus\n",
            "Ana\n",
            "Theo\n",
            "Maria\n"
          ]
        }
      ]
    },
    {
      "cell_type": "code",
      "source": [
        "lista = ['Vinicius', 'Matheus', 'Ana', 'Theo', 'Maria']\n",
        "for i in range(5):\n",
        "  if(i%2==0):#traz as informações gravadas de 2 em 2\n",
        "    print(lista[i])"
      ],
      "metadata": {
        "colab": {
          "base_uri": "https://localhost:8080/"
        },
        "id": "iyJIYJ-Ddf6U",
        "outputId": "4fecdd1d-a755-43d7-8245-e1a1748392dd"
      },
      "execution_count": 11,
      "outputs": [
        {
          "output_type": "stream",
          "name": "stdout",
          "text": [
            "Vinicius\n",
            "Ana\n",
            "Maria\n"
          ]
        }
      ]
    },
    {
      "cell_type": "code",
      "source": [
        "lista = ['Vinicius', 'Matheus', 'Ana', 'Theo', 'Maria']\n",
        "listanum = [1,2,3,4,5]\n",
        "  print(listanum[i])"
      ],
      "metadata": {
        "colab": {
          "base_uri": "https://localhost:8080/",
          "height": 106
        },
        "id": "FisdVlRtdYO7",
        "outputId": "2817da9e-5a0a-4356-abd4-57630ddd93e3"
      },
      "execution_count": 13,
      "outputs": [
        {
          "output_type": "error",
          "ename": "IndentationError",
          "evalue": "unexpected indent (<ipython-input-13-5a07c9f9c897>, line 3)",
          "traceback": [
            "\u001b[0;36m  File \u001b[0;32m\"<ipython-input-13-5a07c9f9c897>\"\u001b[0;36m, line \u001b[0;32m3\u001b[0m\n\u001b[0;31m    print(listanum[i])\u001b[0m\n\u001b[0m    ^\u001b[0m\n\u001b[0;31mIndentationError\u001b[0m\u001b[0;31m:\u001b[0m unexpected indent\n"
          ]
        }
      ]
    },
    {
      "cell_type": "code",
      "source": [
        "Tabela = {'Nome': ['Alice', 'Bob', 'Carl'], 'Idade': [19,23,47]}\n",
        "  print(Tabela)\n"
      ],
      "metadata": {
        "colab": {
          "base_uri": "https://localhost:8080/",
          "height": 106
        },
        "id": "zEo4dDHLhRO4",
        "outputId": "4091e279-4c32-4ecd-9c2e-0fb4c957b255"
      },
      "execution_count": 26,
      "outputs": [
        {
          "output_type": "error",
          "ename": "IndentationError",
          "evalue": "unexpected indent (<ipython-input-26-2e5acca15066>, line 2)",
          "traceback": [
            "\u001b[0;36m  File \u001b[0;32m\"<ipython-input-26-2e5acca15066>\"\u001b[0;36m, line \u001b[0;32m2\u001b[0m\n\u001b[0;31m    print(Tabela)\u001b[0m\n\u001b[0m    ^\u001b[0m\n\u001b[0;31mIndentationError\u001b[0m\u001b[0;31m:\u001b[0m unexpected indent\n"
          ]
        }
      ]
    }
  ]
}