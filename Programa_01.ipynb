{
  "nbformat": 4,
  "nbformat_minor": 0,
  "metadata": {
    "colab": {
      "provenance": [],
      "authorship_tag": "ABX9TyNfwb+y2tCKdGlNEX1Xb2hZ",
      "include_colab_link": true
    },
    "kernelspec": {
      "name": "python3",
      "display_name": "Python 3"
    },
    "language_info": {
      "name": "python"
    }
  },
  "cells": [
    {
      "cell_type": "markdown",
      "metadata": {
        "id": "view-in-github",
        "colab_type": "text"
      },
      "source": [
        "<a href=\"https://colab.research.google.com/github/Melynna/Aula_01/blob/main/Programa_01.ipynb\" target=\"_parent\"><img src=\"https://colab.research.google.com/assets/colab-badge.svg\" alt=\"Open In Colab\"/></a>"
      ]
    },
    {
      "cell_type": "code",
      "execution_count": 16,
      "metadata": {
        "colab": {
          "base_uri": "https://localhost:8080/"
        },
        "id": "iJxnMoJ5_KPM",
        "outputId": "4b96e259-5639-4dec-a4af-fc30905233f1"
      },
      "outputs": [
        {
          "output_type": "stream",
          "name": "stdout",
          "text": [
            "<class 'float'>\n",
            "<class 'float'>\n",
            "<class 'float'>\n",
            "3.55\n",
            "<class 'str'>\n",
            "<class 'str'>\n",
            "<class 'str'>\n",
            "55\n",
            "Digite valor inteiro: 9\n",
            "<class 'int'>\n",
            "4\n",
            "1\n"
          ]
        }
      ],
      "source": [
        "#Importância dos tipos de variáveis\n",
        "#OBS: sempre usar \"pontos\" e não \"virgula\"\n",
        "a = 0.05\n",
        "print(type(a))\n",
        "b = 3.5\n",
        "print (type(b))\n",
        "soma = a + b\n",
        "print (type(soma))\n",
        "print(soma)\n",
        "\n",
        "\n",
        "\n",
        "#O uso das \"aspas\" faz com que os valores sejam juntados e não somados\n",
        "a = \"5\"\n",
        "print(type(a))\n",
        "b = '5'\n",
        "print (type(b))\n",
        "soma = a + b\n",
        "print (type(soma))\n",
        "print(soma)\n",
        "\n",
        "\n",
        "num=int(input(\"Digite valor inteiro: \"))\n",
        "print(type(num))\n",
        "quoc= num//2\n",
        "resto = num%2\n",
        "print(quoc)\n",
        "print (resto)\n"
      ]
    }
  ]
}