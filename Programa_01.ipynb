{
  "nbformat": 4,
  "nbformat_minor": 0,
  "metadata": {
    "colab": {
      "provenance": [],
      "authorship_tag": "ABX9TyPnZjr8R5GVk/VNSTcVn3F4",
      "include_colab_link": true
    },
    "kernelspec": {
      "name": "python3",
      "display_name": "Python 3"
    },
    "language_info": {
      "name": "python"
    }
  },
  "cells": [
    {
      "cell_type": "markdown",
      "metadata": {
        "id": "view-in-github",
        "colab_type": "text"
      },
      "source": [
        "<a href=\"https://colab.research.google.com/github/Melynna/Aula_01/blob/main/Programa_01.ipynb\" target=\"_parent\"><img src=\"https://colab.research.google.com/assets/colab-badge.svg\" alt=\"Open In Colab\"/></a>"
      ]
    },
    {
      "cell_type": "code",
      "execution_count": 17,
      "metadata": {
        "colab": {
          "base_uri": "https://localhost:8080/"
        },
        "id": "iJxnMoJ5_KPM",
        "outputId": "13242a6c-be87-4ba8-89fb-b04b66cbdb93"
      },
      "outputs": [
        {
          "output_type": "stream",
          "name": "stdout",
          "text": [
            "<class 'float'>\n",
            "<class 'float'>\n",
            "<class 'float'>\n",
            "3.55\n",
            "<class 'str'>\n",
            "<class 'str'>\n",
            "<class 'str'>\n",
            "55\n",
            "Digite valor inteiro: 9\n",
            "<class 'int'>\n",
            "4\n",
            "1\n"
          ]
        }
      ],
      "source": [
        "#Importância dos tipos de variáveis\n",
        "#OBS: sempre usar \"pontos\" e não \"virgula\"\n",
        "a = 0.05\n",
        "print(type(a))\n",
        "b = 3.5\n",
        "print (type(b))\n",
        "soma = a + b\n",
        "print (type(soma))\n",
        "print(soma)\n",
        "\n",
        "\n",
        "\n",
        "#O uso das \"aspas\" faz com que os valores sejam juntados e não somados\n",
        "a = \"5\"\n",
        "print(type(a))\n",
        "b = '5'\n",
        "print (type(b))\n",
        "soma = a + b\n",
        "print (type(soma))\n",
        "print(soma)\n",
        "\n",
        "\n",
        "num=int(input(\"Digite valor inteiro: \"))\n",
        "print(type(num))\n",
        "quoc= num//2\n",
        "sobra = num%2\n",
        "print(quoc)\n",
        "print (sobra)\n"
      ]
    },
    {
      "cell_type": "code",
      "source": [
        "#Atividade_EXEMPLO2\n",
        "\n",
        "b=int(input(\"base: \"))\n",
        "h=int(input(\"altura: \"))\n",
        "area= (b*h)/2\n",
        "\n",
        "print(area)\n",
        "\n",
        "\n",
        "\n",
        "\n"
      ],
      "metadata": {
        "colab": {
          "base_uri": "https://localhost:8080/"
        },
        "id": "bxT2xEjUL_tk",
        "outputId": "d55d10c9-c87c-4a89-cd6b-8027e3c45819"
      },
      "execution_count": 22,
      "outputs": [
        {
          "output_type": "stream",
          "name": "stdout",
          "text": [
            "base: 2\n",
            "altura: 2\n",
            "2.0\n"
          ]
        }
      ]
    }
  ]
}